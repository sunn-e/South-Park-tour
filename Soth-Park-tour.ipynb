{
 "cells": [
  {
   "cell_type": "markdown",
   "metadata": {},
   "source": [
    "South Park is a satiric American TV show. It is an adult show mainly because of its coarse language. I know every episode pretty well, but I wanted to see if I can dig up something more using text analysis.\n",
    "note for sweary\n",
    "install.packages(\"remotes\")\n",
    "remotes::install_github(\"pdrhlik/sweary\")"
   ]
  },
  {
   "cell_type": "code",
   "execution_count": 1,
   "metadata": {},
   "outputs": [
    {
     "name": "stderr",
     "output_type": "stream",
     "text": [
      "Warning message:\n",
      "\"package 'tidyverse' was built under R version 3.6.1\"-- \u001b[1mAttaching packages\u001b[22m --------------------------------------- tidyverse 1.2.1 --\n",
      "\u001b[32mv\u001b[39m \u001b[34mggplot2\u001b[39m 3.2.1       \u001b[32mv\u001b[39m \u001b[34mpurrr  \u001b[39m 0.3.2  \n",
      "\u001b[32mv\u001b[39m \u001b[34mtibble \u001b[39m 2.1.1       \u001b[32mv\u001b[39m \u001b[34mdplyr  \u001b[39m 0.8.0.\u001b[31m1\u001b[39m\n",
      "\u001b[32mv\u001b[39m \u001b[34mtidyr  \u001b[39m 0.8.3       \u001b[32mv\u001b[39m \u001b[34mstringr\u001b[39m 1.4.0  \n",
      "\u001b[32mv\u001b[39m \u001b[34mreadr  \u001b[39m 1.3.1       \u001b[32mv\u001b[39m \u001b[34mforcats\u001b[39m 0.4.0  \n",
      "Warning message:\n",
      "\"package 'ggplot2' was built under R version 3.6.1\"-- \u001b[1mConflicts\u001b[22m ------------------------------------------ tidyverse_conflicts() --\n",
      "\u001b[31mx\u001b[39m \u001b[34mdplyr\u001b[39m::\u001b[32mfilter()\u001b[39m masks \u001b[34mstats\u001b[39m::filter()\n",
      "\u001b[31mx\u001b[39m \u001b[34mdplyr\u001b[39m::\u001b[32mlag()\u001b[39m    masks \u001b[34mstats\u001b[39m::lag()\n",
      "Warning message:\n",
      "\"package 'tidytext' was built under R version 3.6.1\"Warning message:\n",
      "\"package 'broom' was built under R version 3.6.1\""
     ]
    }
   ],
   "source": [
    "# Load libraries\n",
    "library(tidyverse)\n",
    "library(tidytext)\n",
    "library(SnowballC)\n",
    "library(sweary)\n",
    "library(broom)\n"
   ]
  },
  {
   "cell_type": "code",
   "execution_count": 5,
   "metadata": {},
   "outputs": [
    {
     "name": "stderr",
     "output_type": "stream",
     "text": [
      "Parsed with column specification:\n",
      "cols(\n",
      "  character = \u001b[31mcol_character()\u001b[39m,\n",
      "  text = \u001b[31mcol_character()\u001b[39m,\n",
      "  episode_name = \u001b[31mcol_character()\u001b[39m,\n",
      "  season_number = \u001b[32mcol_double()\u001b[39m,\n",
      "  episode_number = \u001b[32mcol_double()\u001b[39m\n",
      ")\n",
      "Parsed with column specification:\n",
      "cols(\n",
      "  season_number = \u001b[32mcol_double()\u001b[39m,\n",
      "  episode_number = \u001b[32mcol_double()\u001b[39m,\n",
      "  rating = \u001b[32mcol_double()\u001b[39m,\n",
      "  votes = \u001b[32mcol_double()\u001b[39m,\n",
      "  episode_order = \u001b[32mcol_double()\u001b[39m\n",
      ")\n"
     ]
    },
    {
     "data": {
      "text/html": [
       "<table>\n",
       "<caption>A tibble: 6 × 5</caption>\n",
       "<thead>\n",
       "\t<tr><th scope=col>character</th><th scope=col>text</th><th scope=col>episode_name</th><th scope=col>season_number</th><th scope=col>episode_number</th></tr>\n",
       "\t<tr><th scope=col>&lt;chr&gt;</th><th scope=col>&lt;chr&gt;</th><th scope=col>&lt;chr&gt;</th><th scope=col>&lt;dbl&gt;</th><th scope=col>&lt;dbl&gt;</th></tr>\n",
       "</thead>\n",
       "<tbody>\n",
       "\t<tr><td>officer bright       </td><td>he broke free                                           </td><td>Splatty Tomato</td><td>21</td><td>10</td></tr>\n",
       "\t<tr><td>jimbo                </td><td>the president is on the loose again                     </td><td>Splatty Tomato</td><td>21</td><td>10</td></tr>\n",
       "\t<tr><td>officer bright       </td><td>he'll be even more desperate now it's going to get worse</td><td>Splatty Tomato</td><td>21</td><td>10</td></tr>\n",
       "\t<tr><td>stan                 </td><td>we can't destroy him can we                             </td><td>Splatty Tomato</td><td>21</td><td>10</td></tr>\n",
       "\t<tr><td>randy                </td><td>i don't know i guess it's up to the whites              </td><td>Splatty Tomato</td><td>21</td><td>10</td></tr>\n",
       "\t<tr><td>end of splatty tomato</td><td>end of splatty tomato                                   </td><td>Splatty Tomato</td><td>21</td><td>10</td></tr>\n",
       "</tbody>\n",
       "</table>\n"
      ],
      "text/latex": [
       "A tibble: 6 × 5\n",
       "\\begin{tabular}{r|lllll}\n",
       " character & text & episode\\_name & season\\_number & episode\\_number\\\\\n",
       " <chr> & <chr> & <chr> & <dbl> & <dbl>\\\\\n",
       "\\hline\n",
       "\t officer bright        & he broke free                                            & Splatty Tomato & 21 & 10\\\\\n",
       "\t jimbo                 & the president is on the loose again                      & Splatty Tomato & 21 & 10\\\\\n",
       "\t officer bright        & he'll be even more desperate now it's going to get worse & Splatty Tomato & 21 & 10\\\\\n",
       "\t stan                  & we can't destroy him can we                              & Splatty Tomato & 21 & 10\\\\\n",
       "\t randy                 & i don't know i guess it's up to the whites               & Splatty Tomato & 21 & 10\\\\\n",
       "\t end of splatty tomato & end of splatty tomato                                    & Splatty Tomato & 21 & 10\\\\\n",
       "\\end{tabular}\n"
      ],
      "text/markdown": [
       "\n",
       "A tibble: 6 × 5\n",
       "\n",
       "| character &lt;chr&gt; | text &lt;chr&gt; | episode_name &lt;chr&gt; | season_number &lt;dbl&gt; | episode_number &lt;dbl&gt; |\n",
       "|---|---|---|---|---|\n",
       "| officer bright        | he broke free                                            | Splatty Tomato | 21 | 10 |\n",
       "| jimbo                 | the president is on the loose again                      | Splatty Tomato | 21 | 10 |\n",
       "| officer bright        | he'll be even more desperate now it's going to get worse | Splatty Tomato | 21 | 10 |\n",
       "| stan                  | we can't destroy him can we                              | Splatty Tomato | 21 | 10 |\n",
       "| randy                 | i don't know i guess it's up to the whites               | Splatty Tomato | 21 | 10 |\n",
       "| end of splatty tomato | end of splatty tomato                                    | Splatty Tomato | 21 | 10 |\n",
       "\n"
      ],
      "text/plain": [
       "  character            \n",
       "1 officer bright       \n",
       "2 jimbo                \n",
       "3 officer bright       \n",
       "4 stan                 \n",
       "5 randy                \n",
       "6 end of splatty tomato\n",
       "  text                                                     episode_name  \n",
       "1 he broke free                                            Splatty Tomato\n",
       "2 the president is on the loose again                      Splatty Tomato\n",
       "3 he'll be even more desperate now it's going to get worse Splatty Tomato\n",
       "4 we can't destroy him can we                              Splatty Tomato\n",
       "5 i don't know i guess it's up to the whites               Splatty Tomato\n",
       "6 end of splatty tomato                                    Splatty Tomato\n",
       "  season_number episode_number\n",
       "1 21            10            \n",
       "2 21            10            \n",
       "3 21            10            \n",
       "4 21            10            \n",
       "5 21            10            \n",
       "6 21            10            "
      ]
     },
     "metadata": {},
     "output_type": "display_data"
    },
    {
     "data": {
      "text/html": [
       "<table>\n",
       "<caption>A tibble: 6 × 5</caption>\n",
       "<thead>\n",
       "\t<tr><th scope=col>season_number</th><th scope=col>episode_number</th><th scope=col>rating</th><th scope=col>votes</th><th scope=col>episode_order</th></tr>\n",
       "\t<tr><th scope=col>&lt;dbl&gt;</th><th scope=col>&lt;dbl&gt;</th><th scope=col>&lt;dbl&gt;</th><th scope=col>&lt;dbl&gt;</th><th scope=col>&lt;dbl&gt;</th></tr>\n",
       "</thead>\n",
       "<tbody>\n",
       "\t<tr><td>21</td><td> 5</td><td>7.4</td><td>1091</td><td>282</td></tr>\n",
       "\t<tr><td>21</td><td> 6</td><td>7.3</td><td> 964</td><td>283</td></tr>\n",
       "\t<tr><td>21</td><td> 7</td><td>7.4</td><td>1008</td><td>284</td></tr>\n",
       "\t<tr><td>21</td><td> 8</td><td>7.2</td><td> 833</td><td>285</td></tr>\n",
       "\t<tr><td>21</td><td> 9</td><td>7.9</td><td> 896</td><td>286</td></tr>\n",
       "\t<tr><td>21</td><td>10</td><td>7.1</td><td> 906</td><td>287</td></tr>\n",
       "</tbody>\n",
       "</table>\n"
      ],
      "text/latex": [
       "A tibble: 6 × 5\n",
       "\\begin{tabular}{r|lllll}\n",
       " season\\_number & episode\\_number & rating & votes & episode\\_order\\\\\n",
       " <dbl> & <dbl> & <dbl> & <dbl> & <dbl>\\\\\n",
       "\\hline\n",
       "\t 21 &  5 & 7.4 & 1091 & 282\\\\\n",
       "\t 21 &  6 & 7.3 &  964 & 283\\\\\n",
       "\t 21 &  7 & 7.4 & 1008 & 284\\\\\n",
       "\t 21 &  8 & 7.2 &  833 & 285\\\\\n",
       "\t 21 &  9 & 7.9 &  896 & 286\\\\\n",
       "\t 21 & 10 & 7.1 &  906 & 287\\\\\n",
       "\\end{tabular}\n"
      ],
      "text/markdown": [
       "\n",
       "A tibble: 6 × 5\n",
       "\n",
       "| season_number &lt;dbl&gt; | episode_number &lt;dbl&gt; | rating &lt;dbl&gt; | votes &lt;dbl&gt; | episode_order &lt;dbl&gt; |\n",
       "|---|---|---|---|---|\n",
       "| 21 |  5 | 7.4 | 1091 | 282 |\n",
       "| 21 |  6 | 7.3 |  964 | 283 |\n",
       "| 21 |  7 | 7.4 | 1008 | 284 |\n",
       "| 21 |  8 | 7.2 |  833 | 285 |\n",
       "| 21 |  9 | 7.9 |  896 | 286 |\n",
       "| 21 | 10 | 7.1 |  906 | 287 |\n",
       "\n"
      ],
      "text/plain": [
       "  season_number episode_number rating votes episode_order\n",
       "1 21             5             7.4    1091  282          \n",
       "2 21             6             7.3     964  283          \n",
       "3 21             7             7.4    1008  284          \n",
       "4 21             8             7.2     833  285          \n",
       "5 21             9             7.9     896  286          \n",
       "6 21            10             7.1     906  287          "
      ]
     },
     "metadata": {},
     "output_type": "display_data"
    }
   ],
   "source": [
    "# Load datasets\n",
    "sp_lines <- read_csv(\"datasets/sp_lines.csv\")\n",
    "sp_ratings <- read_csv(\"datasets/sp_ratings.csv\")\n",
    "\n",
    "# Take a look at the last few observations\n",
    "tail(sp_lines)\n",
    "tail(sp_ratings)"
   ]
  },
  {
   "cell_type": "markdown",
   "metadata": {},
   "source": [
    "Sentiments, swear words, and stemming"
   ]
  },
  {
   "cell_type": "code",
   "execution_count": null,
   "metadata": {},
   "outputs": [],
   "source": []
  }
 ],
 "metadata": {
  "kernelspec": {
   "display_name": "R",
   "language": "R",
   "name": "ir"
  },
  "language_info": {
   "codemirror_mode": "r",
   "file_extension": ".r",
   "mimetype": "text/x-r-source",
   "name": "R",
   "pygments_lexer": "r",
   "version": "3.6.0"
  }
 },
 "nbformat": 4,
 "nbformat_minor": 2
}
